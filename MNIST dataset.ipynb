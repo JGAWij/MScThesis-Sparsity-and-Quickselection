{
 "cells": [
  {
   "cell_type": "code",
   "execution_count": 12,
   "id": "7316f9b6",
   "metadata": {},
   "outputs": [],
   "source": [
    "import os\n",
    "import re\n",
    "import pandas as pd\n",
    "import numpy as np\n",
    "import matplotlib.pyplot as plt\n",
    "import tensorflow as tf\n",
    "from tensorflow.keras.datasets import mnist"
   ]
  },
  {
   "cell_type": "code",
   "execution_count": 13,
   "id": "994f0f98",
   "metadata": {},
   "outputs": [],
   "source": [
    "(X_train, y_train), (X_test, y_test) = tf.keras.datasets.mnist.load_data()"
   ]
  },
  {
   "cell_type": "code",
   "execution_count": 14,
   "id": "b9498270",
   "metadata": {},
   "outputs": [],
   "source": [
    "# Define the desired imbalance ratio\n",
    "imbalance_ratio = 0.1\n",
    "\n",
    "# Get the number of samples in the minority class\n",
    "num_minority_class = int(np.ceil(np.sum(x_train == 0) * imbalance_ratio))\n",
    "\n",
    "# Get the indices of the samples in the minority class\n",
    "minority_class_indices = np.where(x_train == 0)[0][:num_minority_class]\n",
    "\n",
    "# Get the indices of the samples in the majority class\n",
    "majority_class_indices = np.where(x_train != 0)[0]\n",
    "\n",
    "# Combine the minority and majority class indices\n",
    "balanced_indices = np.concatenate([minority_class_indices, majority_class_indices])\n",
    "\n",
    "# Shuffle the indices\n",
    "np.random.shuffle(balanced_indices)\n",
    "\n",
    "# Create the imbalanced dataset\n",
    "x_train_imbalanced = x_train[balanced_indices]\n",
    "y_train_imbalanced = y_train[balanced_indices]"
   ]
  },
  {
   "cell_type": "code",
   "execution_count": null,
   "id": "93a9db5d",
   "metadata": {},
   "outputs": [],
   "source": []
  },
  {
   "cell_type": "code",
   "execution_count": 15,
   "id": "79217bb1",
   "metadata": {},
   "outputs": [],
   "source": [
    "np.save('x_train_imbalanced.npy', x_train_imbalanced)\n",
    "np.save('y_train_imbalanced.npy', y_train_imbalanced)"
   ]
  },
  {
   "cell_type": "code",
   "execution_count": 16,
   "id": "8183e423",
   "metadata": {},
   "outputs": [],
   "source": [
    "x_train_imbalanced = np.load('x_train_imbalanced.npy')\n",
    "y_train_imbalanced = np.load('y_train_imbalanced.npy')"
   ]
  },
  {
   "cell_type": "code",
   "execution_count": null,
   "id": "ba024839",
   "metadata": {},
   "outputs": [],
   "source": [
    "\n",
    "        "
   ]
  },
  {
   "cell_type": "markdown",
   "id": "0aeb3dc1",
   "metadata": {},
   "source": [
    "##### The script above only generates an imbalanced training dataset"
   ]
  },
  {
   "cell_type": "code",
   "execution_count": 17,
   "id": "57b380b6",
   "metadata": {},
   "outputs": [
    {
     "data": {
      "text/plain": [
       "array([[[0, 0, 0, ..., 0, 0, 0],\n",
       "        [0, 0, 0, ..., 0, 0, 0],\n",
       "        [0, 0, 0, ..., 0, 0, 0],\n",
       "        ...,\n",
       "        [0, 0, 0, ..., 0, 0, 0],\n",
       "        [0, 0, 0, ..., 0, 0, 0],\n",
       "        [0, 0, 0, ..., 0, 0, 0]],\n",
       "\n",
       "       [[0, 0, 0, ..., 0, 0, 0],\n",
       "        [0, 0, 0, ..., 0, 0, 0],\n",
       "        [0, 0, 0, ..., 0, 0, 0],\n",
       "        ...,\n",
       "        [0, 0, 0, ..., 0, 0, 0],\n",
       "        [0, 0, 0, ..., 0, 0, 0],\n",
       "        [0, 0, 0, ..., 0, 0, 0]],\n",
       "\n",
       "       [[0, 0, 0, ..., 0, 0, 0],\n",
       "        [0, 0, 0, ..., 0, 0, 0],\n",
       "        [0, 0, 0, ..., 0, 0, 0],\n",
       "        ...,\n",
       "        [0, 0, 0, ..., 0, 0, 0],\n",
       "        [0, 0, 0, ..., 0, 0, 0],\n",
       "        [0, 0, 0, ..., 0, 0, 0]],\n",
       "\n",
       "       ...,\n",
       "\n",
       "       [[0, 0, 0, ..., 0, 0, 0],\n",
       "        [0, 0, 0, ..., 0, 0, 0],\n",
       "        [0, 0, 0, ..., 0, 0, 0],\n",
       "        ...,\n",
       "        [0, 0, 0, ..., 0, 0, 0],\n",
       "        [0, 0, 0, ..., 0, 0, 0],\n",
       "        [0, 0, 0, ..., 0, 0, 0]],\n",
       "\n",
       "       [[0, 0, 0, ..., 0, 0, 0],\n",
       "        [0, 0, 0, ..., 0, 0, 0],\n",
       "        [0, 0, 0, ..., 0, 0, 0],\n",
       "        ...,\n",
       "        [0, 0, 0, ..., 0, 0, 0],\n",
       "        [0, 0, 0, ..., 0, 0, 0],\n",
       "        [0, 0, 0, ..., 0, 0, 0]],\n",
       "\n",
       "       [[0, 0, 0, ..., 0, 0, 0],\n",
       "        [0, 0, 0, ..., 0, 0, 0],\n",
       "        [0, 0, 0, ..., 0, 0, 0],\n",
       "        ...,\n",
       "        [0, 0, 0, ..., 0, 0, 0],\n",
       "        [0, 0, 0, ..., 0, 0, 0],\n",
       "        [0, 0, 0, ..., 0, 0, 0]]], dtype=uint8)"
      ]
     },
     "execution_count": 17,
     "metadata": {},
     "output_type": "execute_result"
    }
   ],
   "source": [
    "x_train_imbalanced"
   ]
  },
  {
   "cell_type": "code",
   "execution_count": null,
   "id": "aef3cf9d",
   "metadata": {},
   "outputs": [],
   "source": []
  }
 ],
 "metadata": {
  "kernelspec": {
   "display_name": "Python 3 (ipykernel)",
   "language": "python",
   "name": "python3"
  },
  "language_info": {
   "codemirror_mode": {
    "name": "ipython",
    "version": 3
   },
   "file_extension": ".py",
   "mimetype": "text/x-python",
   "name": "python",
   "nbconvert_exporter": "python",
   "pygments_lexer": "ipython3",
   "version": "3.9.12"
  }
 },
 "nbformat": 4,
 "nbformat_minor": 5
}
