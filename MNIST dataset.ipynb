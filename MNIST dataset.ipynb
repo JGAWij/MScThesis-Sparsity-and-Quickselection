{
 "cells": [
  {
   "cell_type": "code",
   "execution_count": 1,
   "id": "7316f9b6",
   "metadata": {},
   "outputs": [],
   "source": [
    "import os\n",
    "import re\n",
    "import pandas as pd\n",
    "import numpy as np\n",
    "import matplotlib.pyplot as plt\n",
    "import tensorflow as tf\n",
    "from tensorflow.keras.datasets import mnist\n",
    "from sklearn import preprocessing\n"
   ]
  },
  {
   "cell_type": "code",
   "execution_count": 2,
   "id": "994f0f98",
   "metadata": {},
   "outputs": [],
   "source": [
    "(X_train, y_train), (X_test, y_test) = tf.keras.datasets.mnist.load_data()"
   ]
  },
  {
   "cell_type": "markdown",
   "id": "9ad5ff7e",
   "metadata": {},
   "source": [
    "X_train contains the image data while y_train contains the corresponding labels that indicate which digit is represented by each image."
   ]
  },
  {
   "cell_type": "code",
   "execution_count": null,
   "id": "c1416eab",
   "metadata": {},
   "outputs": [],
   "source": []
  },
  {
   "cell_type": "code",
   "execution_count": 3,
   "id": "04d05f63",
   "metadata": {},
   "outputs": [],
   "source": [
    "X_train = X_train.astype('float32')\n",
    "X_test  = X_test.astype('float32')\n",
    "\n",
    "X_train = X_train.reshape((X_train.shape[0],X_train.shape[1]*X_train.shape[2]))\n",
    "X_test  = X_test.reshape((X_test.shape[0],X_test.shape[1]*X_test.shape[2]))\n",
    "\n",
    "scaler = preprocessing.StandardScaler().fit(X_train)"
   ]
  },
  {
   "cell_type": "code",
   "execution_count": 4,
   "id": "99dc6b2c",
   "metadata": {},
   "outputs": [],
   "source": [
    "# Define the desired imbalance ratio\n",
    "imbalance_ratio = 0.9999\n",
    "\n",
    "## imbalancedness follows from the random subsample construction. maybe weightning? first check the imbalancedness behore subsampling.\n",
    "## conditional probability p(i | j)\n",
    "## check paper --> implement imbalanced ratio definition parts\n",
    "\n"
   ]
  },
  {
   "cell_type": "code",
   "execution_count": 5,
   "id": "aac487f9",
   "metadata": {},
   "outputs": [],
   "source": [
    "# Get the number of samples\n",
    "num_samples = X_train.shape[0]\n",
    "\n",
    "# Define the subsample ratio\n",
    "subsample_ratio = 0.5\n",
    "\n",
    "# Compute the number of samples in the subsample\n",
    "num_subsamples = int(np.ceil(num_samples * subsample_ratio))\n",
    "\n",
    "# Randomly select the indices of the subsample\n",
    "subsample_indices = np.random.choice(num_samples, size=num_subsamples, replace=False)\n",
    "\n",
    "# Create the subsample\n",
    "X_train_subsample = X_train[subsample_indices]\n",
    "y_train_subsample = y_train[subsample_indices]\n",
    "\n",
    "# Save the subsample with the same name as the original data\n",
    "np.save(os.path.join(os.getcwd(), 'X_train.npy'), X_train_subsample)\n",
    "np.save(os.path.join(os.getcwd(), 'y_train.npy'), y_train_subsample)\n",
    "\n",
    "# Load the subsample\n",
    "X_train = np.load(os.path.join(os.getcwd(), 'X_train.npy'))\n",
    "y_train = np.load(os.path.join(os.getcwd(), 'y_train.npy'))"
   ]
  },
  {
   "cell_type": "code",
   "execution_count": 6,
   "id": "171e27f4",
   "metadata": {},
   "outputs": [],
   "source": [
    "# Get the number of samples in the minority class for the training set\n",
    "num_minority_class_train = int(np.ceil(np.sum(X_train == 0) * imbalance_ratio))\n",
    "\n",
    "# Get the indices of the samples in the minority class for the training set\n",
    "minority_class_indices_train = np.where(X_train == 0)[0][:num_minority_class_train]\n",
    "\n",
    "# Get the indices of the samples in the majority class for the training set\n",
    "majority_class_indices_train = np.where(X_train != 0)[0]\n",
    "\n",
    "# Combine the minority and majority class indices for the training set\n",
    "balanced_indices_train = np.concatenate([minority_class_indices_train, majority_class_indices_train])\n",
    "\n",
    "# Shuffle the indices for the training set\n",
    "np.random.shuffle(balanced_indices_train)\n",
    "\n",
    "# Create the imbalanced training set\n",
    "X_train_imbalanced = X_train[balanced_indices_train]\n",
    "y_train_imbalanced = y_train[balanced_indices_train]\n",
    "\n",
    "# Get the number of samples in the minority class for the test set\n",
    "num_minority_class_test = int(np.ceil(np.sum(X_test == 0) * imbalance_ratio))\n",
    "\n",
    "# Get the indices of the samples in the minority class for the test set\n",
    "minority_class_indices_test = np.where(X_test == 0)[0][:num_minority_class_test]\n",
    "\n",
    "# Get the indices of the samples in the majority class for the test set\n",
    "majority_class_indices_test = np.where(X_test != 0)[0]\n",
    "\n",
    "# Combine the minority and majority class indices for the test set\n",
    "balanced_indices_test = np.concatenate([minority_class_indices_test, majority_class_indices_test])\n",
    "\n",
    "# Shuffle the indices for the test set\n",
    "np.random.shuffle(balanced_indices_test)\n",
    "\n",
    "# Create the imbalanced test set\n",
    "X_test_imbalanced = X_test[balanced_indices_test]\n",
    "y_test_imbalanced = y_test[balanced_indices_test]"
   ]
  },
  {
   "cell_type": "code",
   "execution_count": 7,
   "id": "d2a6e384",
   "metadata": {},
   "outputs": [
    {
     "data": {
      "text/plain": [
       "array([   0,    0,    0, ..., 9998, 9998, 9998], dtype=int64)"
      ]
     },
     "execution_count": 7,
     "metadata": {},
     "output_type": "execute_result"
    }
   ],
   "source": [
    "minority_class_indices_test"
   ]
  },
  {
   "cell_type": "code",
   "execution_count": 8,
   "id": "4eab613f",
   "metadata": {},
   "outputs": [
    {
     "data": {
      "text/plain": [
       "array([   0,    0,    0, ..., 9999, 9999, 9999], dtype=int64)"
      ]
     },
     "execution_count": 8,
     "metadata": {},
     "output_type": "execute_result"
    }
   ],
   "source": [
    "majority_class_indices_test"
   ]
  },
  {
   "cell_type": "code",
   "execution_count": 9,
   "id": "814900d2",
   "metadata": {},
   "outputs": [
    {
     "data": {
      "text/plain": [
       "array([ 180, 6663, 5265, ..., 7686, 2845, 6271], dtype=int64)"
      ]
     },
     "execution_count": 9,
     "metadata": {},
     "output_type": "execute_result"
    }
   ],
   "source": [
    "balanced_indices_test"
   ]
  },
  {
   "cell_type": "code",
   "execution_count": 10,
   "id": "b9498270",
   "metadata": {},
   "outputs": [
    {
     "data": {
      "text/plain": [
       "array([1, 7, 6, ..., 1, 9, 4], dtype=uint8)"
      ]
     },
     "execution_count": 10,
     "metadata": {},
     "output_type": "execute_result"
    }
   ],
   "source": [
    "y_test_imbalanced"
   ]
  },
  {
   "cell_type": "code",
   "execution_count": 11,
   "id": "93a9db5d",
   "metadata": {},
   "outputs": [
    {
     "data": {
      "text/plain": [
       "array([469616, 504112, 447664, 519792, 457072, 439040, 484512, 490000,\n",
       "       449232, 442580], dtype=int64)"
      ]
     },
     "execution_count": 11,
     "metadata": {},
     "output_type": "execute_result"
    }
   ],
   "source": [
    "# Calculate the frequency of each class\n",
    "class_freq = np.bincount(y_train_imbalanced)\n",
    "\n",
    "class_freq\n"
   ]
  },
  {
   "cell_type": "code",
   "execution_count": 12,
   "id": "b2ecf65a",
   "metadata": {},
   "outputs": [],
   "source": [
    "# Calculate the proportion of each class\n",
    "class_prop = class_freq / len(y_train_imbalanced)\n",
    "\n",
    "# Sort the proportions in descending order\n",
    "class_prop_sorted = np.sort(class_prop)[::-1]"
   ]
  },
  {
   "cell_type": "code",
   "execution_count": 13,
   "id": "769368ce",
   "metadata": {},
   "outputs": [
    {
     "data": {
      "text/plain": [
       "array([0.11050893, 0.10717532, 0.10417508, 0.10300832, 0.0998414 ,\n",
       "       0.09717452, 0.09550772, 0.09517436, 0.09409349, 0.09334087])"
      ]
     },
     "execution_count": 13,
     "metadata": {},
     "output_type": "execute_result"
    }
   ],
   "source": [
    "class_prop_sorted"
   ]
  },
  {
   "cell_type": "code",
   "execution_count": 14,
   "id": "515d6151",
   "metadata": {
    "scrolled": true
   },
   "outputs": [],
   "source": [
    "# Calculate the cumulative proportion of each class\n",
    "cumulative_prop = np.cumsum(class_prop_sorted)\n",
    "\n",
    "# Calculate the Lorenz curve coordinates\n",
    "lorenz_x = np.linspace(0, 1, len(class_prop_sorted))\n",
    "lorenz_y = np.cumsum(class_prop_sorted) / cumulative_prop[-1]\n",
    "\n",
    "# Calculate the area under the Lorenz curve\n",
    "area_lorenz = np.trapz(lorenz_y, lorenz_x)\n",
    "\n",
    "# Calculate the area under the perfect equality line\n",
    "area_eq = 0.5\n",
    "\n",
    "# Calculate the Gini coefficient\n",
    "gini_coeff = (area_eq - area_lorenz) / area_eq"
   ]
  },
  {
   "cell_type": "code",
   "execution_count": 15,
   "id": "e789dc80",
   "metadata": {},
   "outputs": [
    {
     "data": {
      "image/png": "[encoded data removed]",
      "text/plain": [
       "<Figure size 640x480 with 1 Axes>"
      ]
     },
     "metadata": {},
     "output_type": "display_data"
    },
    {
     "name": "stdout",
     "output_type": "stream",
     "text": [
      "Gini coefficient: -0.13397208485757295\n"
     ]
    }
   ],
   "source": [
    "# Plot the Lorenz curve\n",
    "plt.plot(lorenz_x, lorenz_y, label='Lorenz curve')\n",
    "plt.plot([0, 1], [0, 1], label='Perfect equality')\n",
    "plt.title('Lorenz curve for imbalanced MNIST dataset')\n",
    "plt.xlabel('Proportion of classes')\n",
    "plt.ylabel('Proportion of examples')\n",
    "plt.legend()\n",
    "plt.show()\n",
    "\n",
    "print(f'Gini coefficient: {gini_coeff}')"
   ]
  },
  {
   "cell_type": "code",
   "execution_count": 515,
   "id": "79217bb1",
   "metadata": {},
   "outputs": [],
   "source": [
    "np.save('x_train_imbalanced.npy', X_train_imbalanced)\n",
    "np.save('y_train_imbalanced.npy', y_train_imbalanced)\n",
    "np.save('x_test_imbalanced.npy', X_test_imbalanced)\n",
    "np.save('y_test_imbalanced.npy', y_test_imbalanced)"
   ]
  },
  {
   "cell_type": "code",
   "execution_count": 8,
   "id": "8183e423",
   "metadata": {},
   "outputs": [],
   "source": [
    "x_train_imbalanced = np.load('x_train_imbalanced.npy')\n",
    "y_train_imbalanced = np.load('y_train_imbalanced.npy')\n",
    "x_test_imbalanced = np.load('X_test_imbalanced.npy')\n",
    "y_test_imbalanced = np.load('y_test_imbalanced.npy')"
   ]
  },
  {
   "cell_type": "code",
   "execution_count": null,
   "id": "ba024839",
   "metadata": {},
   "outputs": [],
   "source": [
    "\n",
    "        "
   ]
  },
  {
   "cell_type": "markdown",
   "id": "0aeb3dc1",
   "metadata": {},
   "source": []
  },
  {
   "cell_type": "code",
   "execution_count": null,
   "id": "57b380b6",
   "metadata": {},
   "outputs": [],
   "source": []
  },
  {
   "cell_type": "code",
   "execution_count": null,
   "id": "aef3cf9d",
   "metadata": {},
   "outputs": [],
   "source": []
  }
 ],
 "metadata": {
  "kernelspec": {
   "display_name": "Python 3 (ipykernel)",
   "language": "python",
   "name": "python3"
  },
  "language_info": {
   "codemirror_mode": {
    "name": "ipython",
    "version": 3
   },
   "file_extension": ".py",
   "mimetype": "text/x-python",
   "name": "python",
   "nbconvert_exporter": "python",
   "pygments_lexer": "ipython3",
   "version": "3.9.12"
  }
 },
 "nbformat": 4,
 "nbformat_minor": 5
}
