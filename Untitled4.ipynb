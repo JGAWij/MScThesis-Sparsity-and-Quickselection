{
 "cells": [
  {
   "cell_type": "code",
   "execution_count": null,
   "id": "fc1c6b09",
   "metadata": {},
   "outputs": [],
   "source": []
  },
  {
   "cell_type": "code",
   "execution_count": null,
   "id": "74c3215f",
   "metadata": {},
   "outputs": [],
   "source": [
    "def gini(x):\n",
    "        total = 0\n",
    "        for i, xi in enumerate(x[:-1], 1):\n",
    "            total += np.sum(np.abs(xi - x[i:]))\n",
    "        return total / (len(x)**2 * np.mean(x))"
   ]
  },
  {
   "cell_type": "code",
   "execution_count": null,
   "id": "c613f75c",
   "metadata": {},
   "outputs": [],
   "source": [
    "x = np.array([2.24609375, 1, 1, 1, 1, 1, 1, 1, 1, 1])\n",
    "gini(x)"
   ]
  },
  {
   "cell_type": "code",
   "execution_count": null,
   "id": "aa56e73c",
   "metadata": {},
   "outputs": [],
   "source": [
    "def find_relative_distribution_given_targetgini(target_gini, n): #target_gini is the gini to be reached with the eventual distribution, n is the number of categories in the eventual distribution \n",
    "    # Define the gini function\n",
    "    def gini(x):\n",
    "        total = 0\n",
    "        for i, xi in enumerate(x[:-1], 1):\n",
    "            total += np.sum(np.abs(xi - x[i:]))\n",
    "        return total / (len(x)**2 * np.mean(x))\n",
    "\n",
    "    # Set the initial lower and upper bounds for the first element\n",
    "    lower_bound = 0\n",
    "    upper_bound = 100\n",
    "\n",
    "    # Use binary search to find the appropriate value for the first element\n",
    "    while True:\n",
    "        mid = (lower_bound + upper_bound) / 2\n",
    "        x = np.array([mid] + [1]*(n-1))\n",
    "        g = gini(x)\n",
    "        \n",
    "        if abs(g - target_gini) < 1e-3:\n",
    "            r = x / np.sum(x)\n",
    "            print(\"Relative distribution over n categories:\", r)\n",
    "            g = gini(r)\n",
    "            print(\"Gini coefficient:\", g)\n",
    "            return g, r\n",
    "            \n",
    "        elif g > target_gini:\n",
    "            upper_bound = mid\n",
    "        else:\n",
    "            lower_bound = mid"
   ]
  },
  {
   "cell_type": "code",
   "execution_count": null,
   "id": "5f7d16df",
   "metadata": {},
   "outputs": [],
   "source": [
    "target_gini = 0.5\n",
    "n = 10 \n",
    "g, r = find_relative_distribution_given_targetgini(target_gini, n)"
   ]
  },
  {
   "cell_type": "code",
   "execution_count": null,
   "id": "5bd81712",
   "metadata": {},
   "outputs": [],
   "source": []
  }
 ],
 "metadata": {
  "kernelspec": {
   "display_name": "Python 3 (ipykernel)",
   "language": "python",
   "name": "python3"
  },
  "language_info": {
   "codemirror_mode": {
    "name": "ipython",
    "version": 3
   },
   "file_extension": ".py",
   "mimetype": "text/x-python",
   "name": "python",
   "nbconvert_exporter": "python",
   "pygments_lexer": "ipython3",
   "version": "3.9.12"
  }
 },
 "nbformat": 4,
 "nbformat_minor": 5
}
