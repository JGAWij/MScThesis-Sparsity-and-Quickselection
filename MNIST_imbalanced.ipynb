{
 "cells": [
  {
   "cell_type": "code",
   "execution_count": 1,
   "id": "c072e7c2",
   "metadata": {},
   "outputs": [],
   "source": [
    "# kill error when executing argparse in IPython console\n",
    "import sys; sys.argv=['']; del sys\n",
    "\n",
    "import os\n",
    "os.environ[\"CUDA_DEVICE_ORDER\"]=\"PCI_BUS_ID\"   \n",
    "os.environ[\"CUDA_VISIBLE_DEVICES\"]=\"1\""
   ]
  },
  {
   "cell_type": "code",
   "execution_count": 2,
   "id": "5ea299b2",
   "metadata": {},
   "outputs": [
    {
     "name": "stdout",
     "output_type": "stream",
     "text": [
      "Collecting torch\n",
      "  Downloading torch-2.0.0-cp39-none-macosx_10_9_x86_64.whl (139.8 MB)\n",
      "\u001b[K     |████████████████████████████████| 139.8 MB 9.8 kB/s  eta 0:00:01    |██████▊                         | 29.2 MB 8.0 MB/s eta 0:00:14     |███████████▉                    | 51.5 MB 6.1 MB/s eta 0:00:15     |█████████████████████▎          | 93.0 MB 13.2 MB/s eta 0:00:04     |█████████████████████████▍      | 110.8 MB 13.6 MB/s eta 0:00:03     |█████████████████████████████▎  | 127.9 MB 10.7 MB/s eta 0:00:02     |█████████████████████████████▉  | 130.1 MB 10.7 MB/s eta 0:00:01\n",
      "\u001b[?25hRequirement already satisfied: typing-extensions in /Users/jessewijlhuizen/opt/anaconda3/lib/python3.9/site-packages (from torch) (4.5.0)\n",
      "Requirement already satisfied: jinja2 in /Users/jessewijlhuizen/opt/anaconda3/lib/python3.9/site-packages (from torch) (2.11.3)\n",
      "Requirement already satisfied: networkx in /Users/jessewijlhuizen/opt/anaconda3/lib/python3.9/site-packages (from torch) (2.7.1)\n",
      "Requirement already satisfied: sympy in /Users/jessewijlhuizen/opt/anaconda3/lib/python3.9/site-packages (from torch) (1.10.1)\n",
      "Requirement already satisfied: filelock in /Users/jessewijlhuizen/opt/anaconda3/lib/python3.9/site-packages (from torch) (3.6.0)\n",
      "Requirement already satisfied: MarkupSafe>=0.23 in /Users/jessewijlhuizen/opt/anaconda3/lib/python3.9/site-packages (from jinja2->torch) (2.0.1)\n",
      "Requirement already satisfied: mpmath>=0.19 in /Users/jessewijlhuizen/opt/anaconda3/lib/python3.9/site-packages (from sympy->torch) (1.2.1)\n",
      "Installing collected packages: torch\n",
      "Successfully installed torch-2.0.0\n",
      "Collecting torchvision\n",
      "  Downloading torchvision-0.15.1-cp39-cp39-macosx_10_9_x86_64.whl (1.5 MB)\n",
      "\u001b[K     |████████████████████████████████| 1.5 MB 9.5 MB/s eta 0:00:01\n",
      "\u001b[?25hRequirement already satisfied: requests in /Users/jessewijlhuizen/opt/anaconda3/lib/python3.9/site-packages (from torchvision) (2.27.1)\n",
      "Requirement already satisfied: pillow!=8.3.*,>=5.3.0 in /Users/jessewijlhuizen/opt/anaconda3/lib/python3.9/site-packages (from torchvision) (9.0.1)\n",
      "Requirement already satisfied: torch==2.0.0 in /Users/jessewijlhuizen/opt/anaconda3/lib/python3.9/site-packages (from torchvision) (2.0.0)\n",
      "Requirement already satisfied: numpy in /Users/jessewijlhuizen/opt/anaconda3/lib/python3.9/site-packages (from torchvision) (1.21.5)\n",
      "Requirement already satisfied: typing-extensions in /Users/jessewijlhuizen/opt/anaconda3/lib/python3.9/site-packages (from torch==2.0.0->torchvision) (4.5.0)\n",
      "Requirement already satisfied: networkx in /Users/jessewijlhuizen/opt/anaconda3/lib/python3.9/site-packages (from torch==2.0.0->torchvision) (2.7.1)\n",
      "Requirement already satisfied: sympy in /Users/jessewijlhuizen/opt/anaconda3/lib/python3.9/site-packages (from torch==2.0.0->torchvision) (1.10.1)\n",
      "Requirement already satisfied: filelock in /Users/jessewijlhuizen/opt/anaconda3/lib/python3.9/site-packages (from torch==2.0.0->torchvision) (3.6.0)\n",
      "Requirement already satisfied: jinja2 in /Users/jessewijlhuizen/opt/anaconda3/lib/python3.9/site-packages (from torch==2.0.0->torchvision) (2.11.3)\n",
      "Requirement already satisfied: MarkupSafe>=0.23 in /Users/jessewijlhuizen/opt/anaconda3/lib/python3.9/site-packages (from jinja2->torch==2.0.0->torchvision) (2.0.1)\n",
      "Requirement already satisfied: urllib3<1.27,>=1.21.1 in /Users/jessewijlhuizen/opt/anaconda3/lib/python3.9/site-packages (from requests->torchvision) (1.26.9)\n",
      "Requirement already satisfied: charset-normalizer~=2.0.0 in /Users/jessewijlhuizen/opt/anaconda3/lib/python3.9/site-packages (from requests->torchvision) (2.0.4)\n",
      "Requirement already satisfied: idna<4,>=2.5 in /Users/jessewijlhuizen/opt/anaconda3/lib/python3.9/site-packages (from requests->torchvision) (3.3)\n",
      "Requirement already satisfied: certifi>=2017.4.17 in /Users/jessewijlhuizen/opt/anaconda3/lib/python3.9/site-packages (from requests->torchvision) (2021.10.8)\n",
      "Requirement already satisfied: mpmath>=0.19 in /Users/jessewijlhuizen/opt/anaconda3/lib/python3.9/site-packages (from sympy->torch==2.0.0->torchvision) (1.2.1)\n",
      "Installing collected packages: torchvision\n",
      "Successfully installed torchvision-0.15.1\n",
      "Requirement already satisfied: seaborn in /Users/jessewijlhuizen/opt/anaconda3/lib/python3.9/site-packages (0.11.2)\n",
      "Requirement already satisfied: pandas>=0.23 in /Users/jessewijlhuizen/opt/anaconda3/lib/python3.9/site-packages (from seaborn) (1.4.2)\n",
      "Requirement already satisfied: scipy>=1.0 in /Users/jessewijlhuizen/opt/anaconda3/lib/python3.9/site-packages (from seaborn) (1.7.3)\n",
      "Requirement already satisfied: numpy>=1.15 in /Users/jessewijlhuizen/opt/anaconda3/lib/python3.9/site-packages (from seaborn) (1.21.5)\n",
      "Requirement already satisfied: matplotlib>=2.2 in /Users/jessewijlhuizen/opt/anaconda3/lib/python3.9/site-packages (from seaborn) (3.5.1)\n",
      "Requirement already satisfied: cycler>=0.10 in /Users/jessewijlhuizen/opt/anaconda3/lib/python3.9/site-packages (from matplotlib>=2.2->seaborn) (0.11.0)\n",
      "Requirement already satisfied: kiwisolver>=1.0.1 in /Users/jessewijlhuizen/opt/anaconda3/lib/python3.9/site-packages (from matplotlib>=2.2->seaborn) (1.3.2)\n",
      "Requirement already satisfied: packaging>=20.0 in /Users/jessewijlhuizen/opt/anaconda3/lib/python3.9/site-packages (from matplotlib>=2.2->seaborn) (21.3)\n",
      "Requirement already satisfied: pyparsing>=2.2.1 in /Users/jessewijlhuizen/opt/anaconda3/lib/python3.9/site-packages (from matplotlib>=2.2->seaborn) (3.0.4)\n",
      "Requirement already satisfied: python-dateutil>=2.7 in /Users/jessewijlhuizen/opt/anaconda3/lib/python3.9/site-packages (from matplotlib>=2.2->seaborn) (2.8.2)\n",
      "Requirement already satisfied: fonttools>=4.22.0 in /Users/jessewijlhuizen/opt/anaconda3/lib/python3.9/site-packages (from matplotlib>=2.2->seaborn) (4.25.0)\n",
      "Requirement already satisfied: pillow>=6.2.0 in /Users/jessewijlhuizen/opt/anaconda3/lib/python3.9/site-packages (from matplotlib>=2.2->seaborn) (9.0.1)\n",
      "Requirement already satisfied: pytz>=2020.1 in /Users/jessewijlhuizen/opt/anaconda3/lib/python3.9/site-packages (from pandas>=0.23->seaborn) (2021.3)\n",
      "Requirement already satisfied: six>=1.5 in /Users/jessewijlhuizen/opt/anaconda3/lib/python3.9/site-packages (from python-dateutil>=2.7->matplotlib>=2.2->seaborn) (1.16.0)\n"
     ]
    }
   ],
   "source": [
    "!pip install torch\n",
    "import torch\n",
    "!pip install torchvision\n",
    "import torchvision\n",
    "%matplotlib inline\n",
    "import matplotlib.pyplot as plt\n",
    "\n",
    "!pip install seaborn\n",
    "import seaborn as sns"
   ]
  },
  {
   "cell_type": "code",
   "execution_count": 18,
   "id": "65df7d6b",
   "metadata": {},
   "outputs": [],
   "source": [
    "import argparse\n",
    "import random\n",
    "import copy\n",
    "import numpy as np\n",
    "import pandas as pd\n",
    "import sklearn.metrics as sm\n",
    "import torch.nn.functional as F"
   ]
  },
  {
   "cell_type": "code",
   "execution_count": 4,
   "id": "9f083786",
   "metadata": {},
   "outputs": [],
   "source": [
    "parser = argparse.ArgumentParser(description='Imbalanced MNIST Example')\n",
    "parser.add_argument('--batch-size', type=int, default=64, metavar='N',\n",
    "                    help='input batch size for training (default: 64)')\n",
    "parser.add_argument('--test-batch-size', type=int, default=1000, metavar='N',\n",
    "                    help='input batch size for testing (default: 1000)')\n",
    "parser.add_argument('--epochs', type=int, default=100, metavar='N',\n",
    "                    help='number of epochs to train')\n",
    "parser.add_argument('--lr', type=float, default=0.01, metavar='LR',\n",
    "                    help='learning rate (default: 0.01)')\n",
    "parser.add_argument('--momentum', type=float, default=0.5, metavar='M',\n",
    "                    help='SGD momentum (default: 0.5)')\n",
    "parser.add_argument('--no-cuda', action='store_true', default=False,\n",
    "                    help='disables CUDA training')\n",
    "parser.add_argument('--seed', type=int, default=42, metavar='S',\n",
    "                    help='random seed (default: 42)')\n",
    "args = parser.parse_args()\n",
    "use_cuda = not args.no_cuda and torch.cuda.is_available()\n",
    "\n",
    "torch.manual_seed(args.seed)\n",
    "device = torch.device(\"cuda\" if use_cuda else \"cpu\")\n",
    "kwargs = {'num_workers': 1, 'pin_memory': True} if use_cuda else {}\n"
   ]
  },
  {
   "cell_type": "code",
   "execution_count": 5,
   "id": "d248e3e6",
   "metadata": {},
   "outputs": [],
   "source": [
    "# load data\n",
    "test_seq = [\n",
    "   torchvision.transforms.ToTensor(),\n",
    "   torchvision.transforms.Normalize((0.1307,), (0.3081,))\n",
    "]\n",
    "test_transform = torchvision.transforms.Compose(test_seq)\n",
    "train_transform = torchvision.transforms.Compose([\n",
    "    torchvision.transforms.RandomAffine(\n",
    "        10, shear=10\n",
    "    )] + test_seq)\n",
    "train_dataset = torchvision.datasets.MNIST('.', train=True, download=True, transform=train_transform)\n",
    "train_loader = torch.utils.data.DataLoader(\n",
    "    train_dataset, batch_size=args.batch_size, shuffle=True, **kwargs)\n",
    "test_loader = torch.utils.data.DataLoader(\n",
    "    torchvision.datasets.MNIST('.', train=False, transform=test_transform),\n",
    "    batch_size=args.test_batch_size, shuffle=True, **kwargs)\n",
    "test_dataset = torchvision.datasets.MNIST('.', train=False, download=True, transform=test_transform)\n"
   ]
  },
  {
   "cell_type": "code",
   "execution_count": 6,
   "id": "a327581d",
   "metadata": {},
   "outputs": [
    {
     "name": "stdout",
     "output_type": "stream",
     "text": [
      "Dataset MNIST\n",
      "    Number of datapoints: 60000\n",
      "    Root location: .\n",
      "    Split: Train\n",
      "    StandardTransform\n",
      "Transform: Compose(\n",
      "               RandomAffine(degrees=[-10.0, 10.0], shear=[-10.0, 10.0])\n",
      "               ToTensor()\n",
      "               Normalize(mean=(0.1307,), std=(0.3081,))\n",
      "           )\n",
      "<torch.utils.data.dataloader.DataLoader object at 0x13e2af910>\n",
      "<torch.utils.data.dataloader.DataLoader object at 0x13e2af8e0>\n"
     ]
    }
   ],
   "source": [
    "print(train_dataset)\n",
    "print(train_loader)\n",
    "print(test_loader)"
   ]
  },
  {
   "cell_type": "code",
   "execution_count": 7,
   "id": "18f7f0ec",
   "metadata": {},
   "outputs": [],
   "source": [
    "torch.manual_seed(args.seed)\n",
    "num_classes = 10\n",
    "classe_labels = range(num_classes)\n",
    "sample_probs = torch.rand(num_classes)\n",
    "\n",
    "\n",
    "idx_to_del = [i for i, label in enumerate(train_loader.dataset.targets)               if random.random() > sample_probs[label]]\n",
    "imbalanced_train_dataset = copy.deepcopy(train_dataset)\n",
    "imbalanced_train_dataset.targets = np.delete(train_loader.dataset.targets, idx_to_del, axis=0)\n",
    "imbalanced_train_dataset.data = np.delete(train_loader.dataset.data, idx_to_del, axis=0)\n",
    "imbalanced_train_loader = torch.utils.data.DataLoader(\n",
    "    imbalanced_train_dataset, batch_size=args.batch_size, shuffle=True, **kwargs)"
   ]
  },
  {
   "cell_type": "code",
   "execution_count": 8,
   "id": "fe83a5fc",
   "metadata": {},
   "outputs": [
    {
     "name": "stdout",
     "output_type": "stream",
     "text": [
      "Original dataset: 60000 training samples & 10000 testing samples\n",
      "\n",
      "Distribution of classes in original dataset:\n"
     ]
    },
    {
     "name": "stderr",
     "output_type": "stream",
     "text": [
      "/Users/jessewijlhuizen/opt/anaconda3/lib/python3.9/site-packages/torchvision/datasets/mnist.py:65: UserWarning: train_labels has been renamed targets\n",
      "  warnings.warn(\"train_labels has been renamed targets\")\n"
     ]
    },
    {
     "data": {
      "image/png": "[encoded data removed]",
      "text/plain": [
       "<Figure size 432x288 with 1 Axes>"
      ]
     },
     "metadata": {
      "needs_background": "light"
     },
     "output_type": "display_data"
    }
   ],
   "source": [
    "def show_mnist(arr, nrow=5, ncol=10, figsize=None):\n",
    "    if figsize is None:\n",
    "        figsize = (ncol, nrow)\n",
    "        \n",
    "    f, a = plt.subplots(nrow, ncol, figsize=figsize)\n",
    "    \n",
    "    def _do_show(the_figure, the_array):\n",
    "        the_figure.imshow(the_array)\n",
    "        the_figure.axis('off')\n",
    "    \n",
    "    for i in range(nrow):\n",
    "        for j in range(ncol):\n",
    "            _do_show(a[i][j], np.reshape(arr[i * ncol + j], (28, 28)))\n",
    "            \n",
    "    plt.subplots_adjust(wspace=0.1, hspace=0.1)\n",
    "    plt.draw()\n",
    "        \n",
    "    \n",
    "def vis(test_accs, confusion_mtxes, labels, figsize=(20, 8)):\n",
    "    cm = confusion_mtxes[np.argmax(test_accs)]\n",
    "    cm_sum = np.sum(cm, axis=1, keepdims=True)\n",
    "    cm_perc = cm / cm_sum * 100\n",
    "    annot = np.empty_like(cm).astype(str)\n",
    "    nrows, ncols = cm.shape\n",
    "    for i in range(nrows):\n",
    "        for j in range(ncols):\n",
    "            c = cm[i, j]\n",
    "            p = cm_perc[i, j]\n",
    "            if c == 0:\n",
    "                annot[i, j] = ''\n",
    "            else:\n",
    "                annot[i, j] = '%.1f%%' % p\n",
    "    cm = pd.DataFrame(cm, index=labels, columns=labels)\n",
    "    cm.index.name = 'Actual'\n",
    "    cm.columns.name = 'Predicted'\n",
    "    \n",
    "    fig = plt.figure(figsize=figsize)\n",
    "    plt.subplot(1, 2, 1)\n",
    "    plt.plot(test_accs, 'g')\n",
    "    plt.grid(True)\n",
    "    \n",
    "    plt.subplot(1, 2, 2)\n",
    "    sns.heatmap(cm, annot=annot, fmt='', cmap=\"Blues\")\n",
    "    plt.show()\n",
    "        \n",
    "        \n",
    "print('Original dataset: %d training samples & %d testing samples\\n' % (\n",
    "    len(train_loader.dataset), len(test_loader.dataset)))\n",
    " \n",
    "print('Distribution of classes in original dataset:')\n",
    "fig, ax = plt.subplots()\n",
    "_, counts = np.unique(train_loader.dataset.train_labels, return_counts=True)\n",
    "ax.bar(classe_labels, counts)\n",
    "ax.set_xticks(classe_labels)\n",
    "plt.show()\n"
   ]
  },
  {
   "cell_type": "code",
   "execution_count": 9,
   "id": "cf53f69d",
   "metadata": {},
   "outputs": [
    {
     "name": "stdout",
     "output_type": "stream",
     "text": [
      "Sampling probability for each class:\n"
     ]
    },
    {
     "data": {
      "image/png": "[encoded data removed]",
      "text/plain": [
       "<Figure size 432x288 with 1 Axes>"
      ]
     },
     "metadata": {
      "needs_background": "light"
     },
     "output_type": "display_data"
    },
    {
     "name": "stdout",
     "output_type": "stream",
     "text": [
      "Imbalanced dataset: 37803 training samples & 10000 testing samples\n",
      "\n",
      "Distribution of classes in imbalanced dataset:\n"
     ]
    },
    {
     "data": {
      "image/png": "[encoded data removed]",
      "text/plain": [
       "<Figure size 432x288 with 1 Axes>"
      ]
     },
     "metadata": {
      "needs_background": "light"
     },
     "output_type": "display_data"
    },
    {
     "data": {
      "image/png": "[encoded data removed]",
      "text/plain": [
       "<Figure size 720x360 with 50 Axes>"
      ]
     },
     "metadata": {
      "needs_background": "light"
     },
     "output_type": "display_data"
    }
   ],
   "source": [
    "\n",
    "print('Sampling probability for each class:')\n",
    "fig, ax = plt.subplots()\n",
    "ax.bar(classe_labels, sample_probs)\n",
    "ax.set_xticks(classe_labels)\n",
    "plt.show()\n",
    " \n",
    "print('Imbalanced dataset: %d training samples & %d testing samples\\n' % (\n",
    "    len(imbalanced_train_loader.dataset), len(test_loader.dataset)))\n",
    "\n",
    "print('Distribution of classes in imbalanced dataset:')\n",
    "fig, ax = plt.subplots()\n",
    "_, counts = np.unique(imbalanced_train_loader.dataset.train_labels, return_counts=True)\n",
    "ax.bar(classe_labels, counts)\n",
    "ax.set_xticks(classe_labels)\n",
    "plt.show()\n",
    "\n",
    "for data, _ in train_loader:\n",
    "    show_mnist(data)\n",
    "    break\n",
    "    "
   ]
  },
  {
   "cell_type": "code",
   "execution_count": 19,
   "id": "edd43d5b",
   "metadata": {},
   "outputs": [
    {
     "name": "stdout",
     "output_type": "stream",
     "text": [
      "[5 0 4 ... 5 6 8]\n",
      "[5923 6742 5958 6131 5842 5421 5918 6265 5851 5949]\n",
      "Class proportions [0.09871667 0.11236667 0.0993     0.10218333 0.09736667 0.09035\n",
      " 0.09863333 0.10441667 0.09751667 0.09915   ]\n",
      "class_prop_sorted [0.11236667 0.10441667 0.10218333 0.0993     0.09915    0.09871667\n",
      " 0.09863333 0.09751667 0.09736667 0.09035   ]\n",
      "cumulative_prop [0.11236667 0.21678333 0.31896667 0.41826667 0.51741667 0.61613333\n",
      " 0.71476667 0.81228333 0.90965    1.        ]\n",
      "lorenz_x [0.         0.11111111 0.22222222 0.33333333 0.44444444 0.55555556\n",
      " 0.66666667 0.77777778 0.88888889 1.        ]\n",
      "lorenz_y [0.11236667 0.21678333 0.31896667 0.41826667 0.51741667 0.61613333\n",
      " 0.71476667 0.81228333 0.90965    1.        ]\n",
      "area_lorenz 0.5644944444444445\n",
      "Imbalanced Gini coefficient: 0.12898888888888904\n",
      "Class proportions [0.13833205 0.16411332 0.06077583 0.15606829 0.06011205 0.08700847\n",
      " 0.03828691 0.13020737 0.14568675 0.01940897]\n",
      "Imbalanced Gini coefficient: 0.40738183953010143\n"
     ]
    }
   ],
   "source": [
    "# Calculate the original class proportions\n",
    "train_labels = np.array(train_dataset.targets)\n",
    "print(train_labels)\n",
    "class_counts = np.bincount(train_labels)\n",
    "print(class_counts)\n",
    "class_props = class_counts / float(len(train_labels))\n",
    "print(\"Class proportions\", class_props)\n",
    "class_prop_sorted = np.sort(class_props)[::-1]\n",
    "print(\"class_prop_sorted\", class_prop_sorted)\n",
    "cumulative_prop = np.cumsum(class_prop_sorted)\n",
    "print(\"cumulative_prop\", cumulative_prop)\n",
    "# Calculate the Gini coefficient\n",
    "lorenz_x = np.linspace(0, 1, len(class_prop_sorted))\n",
    "print(\"lorenz_x\", lorenz_x)\n",
    "lorenz_y = np.cumsum(class_prop_sorted) / cumulative_prop[-1]\n",
    "print(\"lorenz_y\", lorenz_y)\n",
    "\n",
    "# Calculate the area under the Lorenz curve\n",
    "area_lorenz = np.trapz(lorenz_y, lorenz_x)\n",
    "print(\"area_lorenz\", area_lorenz)\n",
    "# Calculate the Gini coefficient\n",
    "original_gini = ((2 * area_lorenz) - 1)\n",
    "\n",
    "print(\"Imbalanced Gini coefficient:\", original_gini)\n",
    "\n",
    "\n",
    "# Calculate the imbalanced class proportions\n",
    "train_labels = np.array(imbalanced_train_dataset.targets)\n",
    "class_counts = np.bincount(train_labels)\n",
    "class_props = class_counts / float(len(train_labels))\n",
    "print(\"Class proportions\", class_props)\n",
    "class_prop_sorted = np.sort(class_props)[::-1]\n",
    "\n",
    "cumulative_prop = np.cumsum(class_prop_sorted)\n",
    "# Calculate the Gini coefficient\n",
    "lorenz_x = np.linspace(0, 1, len(class_prop_sorted))\n",
    "lorenz_y = np.cumsum(class_prop_sorted) / cumulative_prop[-1]\n",
    "# Calculate the area under the Lorenz curve\n",
    "area_lorenz = np.trapz(lorenz_y, lorenz_x)\n",
    "\n",
    "# Calculate the Gini coefficient\n",
    "imbalanced_gini = ((2 * area_lorenz) - 1)\n",
    "\n",
    "\n",
    "print(\"Imbalanced Gini coefficient:\", imbalanced_gini)\n",
    "\n"
   ]
  },
  {
   "cell_type": "code",
   "execution_count": null,
   "id": "9459bcc0",
   "metadata": {},
   "outputs": [],
   "source": []
  },
  {
   "cell_type": "code",
   "execution_count": null,
   "id": "6a5ace25",
   "metadata": {},
   "outputs": [],
   "source": []
  },
  {
   "cell_type": "code",
   "execution_count": 155,
   "id": "0a9b9ca5",
   "metadata": {},
   "outputs": [],
   "source": [
    "def adjust_classes(class_counts, factor_target, max_adjusted=6):\n",
    "    # Calculate class proportions\n",
    "    class_props = class_counts / np.sum(class_counts)\n",
    "    \n",
    "    # Sort the class proportions in descending order\n",
    "    class_prop_sorted = np.sort(class_props)[::-1]\n",
    "    cumulative_prop = np.cumsum(class_prop_sorted)\n",
    "    \n",
    "    # Calculate the area under the Lorenz curve\n",
    "    area_lorenz = np.trapz(cumulative_prop, x=np.linspace(0, 1, len(class_props)))\n",
    "    # Calculate the area under the perfect equality line\n",
    "    area_eq = 0.5\n",
    "    # Calculate the factor of the original data\n",
    "    factor = (2 * area_lorenz / cumulative_prop[-1]) - 1\n",
    "    \n",
    "    print(\"factor\", factor)\n",
    "    \n",
    "    # Check if the target factor is achievable\n",
    "    if factor > factor_target:\n",
    "        return None\n",
    "    \n",
    "    # Calculate the number of samples to remove from each class\n",
    "    adjustments = []\n",
    "    num_adjusted = 0\n",
    "    for i in range(len(class_props)):\n",
    "        if class_props[i] == 0:\n",
    "            continue\n",
    "        adjusted_prop = class_prop_sorted.copy()\n",
    "        adjusted_prop[i] = max(class_props[i] - ((factor_target + 1) * cumulative_prop[-1] / (2 * (len(class_props) - num_adjusted) * factor_target)), 0)\n",
    "        num_samples_adjusted = int(round((class_props[i] - adjusted_prop[i]) * np.sum(class_counts)))\n",
    "        if num_samples_adjusted > 0:\n",
    "            num_samples_adjusted = min(num_samples_adjusted, class_counts[i])\n",
    "            adjustments.append((i, num_samples_adjusted))\n",
    "            num_adjusted += 1\n",
    "            if num_adjusted == max_adjusted:\n",
    "                break\n",
    "                \n",
    "    # Check if the target factor is achievable with the given maximum number of adjusted classes\n",
    "    if num_adjusted < max_adjusted and factor_target > factor:\n",
    "        return None\n",
    "    \n",
    "    return adjustments\n"
   ]
  },
  {
   "cell_type": "code",
   "execution_count": 156,
   "id": "556bd5bb",
   "metadata": {},
   "outputs": [
    {
     "name": "stdout",
     "output_type": "stream",
     "text": [
      "factor 0.28218534994694044\n",
      "Adjustments to reach target factor 0.9:\n",
      "Class 0: remove 4599 samples\n",
      "Class 1: remove 5110 samples\n",
      "Class 2: remove 2228 samples\n",
      "Class 3: remove 5875 samples\n",
      "Class 4: remove 2331 samples\n",
      "Class 5: remove 3305 samples\n"
     ]
    }
   ],
   "source": [
    "# Set the target factor\n",
    "target_factor = 0.9\n",
    "class_counts = np.bincount(train_labels)\n",
    "\n",
    "# Calculate the adjustments\n",
    "adjustments = adjust_classes(class_counts, target_factor)\n",
    "\n",
    "# Print the adjustments\n",
    "if adjustments:\n",
    "    print(f\"Adjustments to reach target factor {target_factor}:\")\n",
    "    for i, num_samples in adjustments:\n",
    "        print(f\"Class {i}: remove {num_samples} samples\")\n",
    "else:\n",
    "    print(f\"Target factor {target_factor} cannot be reached.\")"
   ]
  },
  {
   "cell_type": "code",
   "execution_count": 157,
   "id": "8013872d",
   "metadata": {},
   "outputs": [
    {
     "name": "stdout",
     "output_type": "stream",
     "text": [
      "[(0, 4599), (1, 5110), (2, 2228), (3, 5875), (4, 2331), (5, 3305), (6, 0), (7, 0), (8, 0), (9, 0)]\n"
     ]
    }
   ],
   "source": [
    "adjustments.extend([(6, 0), (7, 0), (8, 0), (9, 0)])\n",
    "print(adjustments)"
   ]
  },
  {
   "cell_type": "code",
   "execution_count": 158,
   "id": "5da9b830",
   "metadata": {},
   "outputs": [],
   "source": [
    "def adjust_mnist(train_dataset, test_dataset, adjustments):\n",
    "    # Convert adjustments to a dictionary for easier lookup\n",
    "    adjustments_dict = dict(adjustments)\n",
    "\n",
    "    # Extract the images and labels from the original train dataset\n",
    "    images = train_dataset.data\n",
    "    labels = train_dataset.targets\n",
    "\n",
    "    # Remove samples from each class\n",
    "    new_images = []\n",
    "    new_labels = []\n",
    "    for class_idx in range(10):\n",
    "        class_mask = (labels == class_idx)\n",
    "        num_samples_to_remove = adjustments_dict.get(class_idx, 0)\n",
    "        if num_samples_to_remove > 0:\n",
    "            if num_samples_to_remove >= torch.sum(class_mask).item():\n",
    "                # If the number of samples to remove is greater than or equal to the number of samples in the class,\n",
    "                # just keep the first num_samples_to_remove samples in the class\n",
    "                keep_indices = torch.arange(torch.sum(class_mask)).long()\n",
    "            else:\n",
    "                # Get the indices of the samples to keep\n",
    "                keep_indices = torch.tensor(np.random.choice(np.where(class_mask)[0], torch.sum(class_mask).item() - num_samples_to_remove, replace=False)).long()\n",
    "\n",
    "            # Append the remaining samples to the new images and labels\n",
    "            new_images.append(images[keep_indices])\n",
    "            new_labels.append(labels[keep_indices])\n",
    "        else:\n",
    "            # Append all samples from this class\n",
    "            new_images.append(images[class_mask])\n",
    "            new_labels.append(labels[class_mask])\n",
    "\n",
    "    # Concatenate the new images and labels into tensors\n",
    "    new_images = torch.cat(new_images, dim=0)\n",
    "    new_labels = torch.cat(new_labels, dim=0)\n",
    "\n",
    "    # Create new datasets with the adjusted images and labels\n",
    "    new_train_dataset = torch.utils.data.TensorDataset(new_images, new_labels)\n",
    "    new_test_dataset = test_dataset\n",
    "\n",
    "    return new_train_dataset, new_test_dataset\n"
   ]
  },
  {
   "cell_type": "code",
   "execution_count": 159,
   "id": "9e69b305",
   "metadata": {},
   "outputs": [
    {
     "name": "stdout",
     "output_type": "stream",
     "text": [
      "<torch.utils.data.dataset.TensorDataset object at 0x000001F747625070>\n"
     ]
    }
   ],
   "source": [
    "new_train_dataset, new_test_dataset = adjust_mnist(train_dataset, test_dataset, adjustments)\n",
    "print(new_train_dataset)"
   ]
  },
  {
   "cell_type": "code",
   "execution_count": 160,
   "id": "6d6dc848",
   "metadata": {},
   "outputs": [
    {
     "name": "stdout",
     "output_type": "stream",
     "text": [
      "Class proportions [0.03622237 0.04464872 0.1020464  0.00700372 0.09605494 0.05789013\n",
      " 0.16190633 0.17139965 0.16007332 0.16275443]\n",
      "Imbalanced Gini coefficient: 0.4547463583084068\n"
     ]
    }
   ],
   "source": [
    "# Calculate the imbalanced class proportions\n",
    "train_labels = np.array(new_train_dataset.tensors[1])\n",
    "class_counts = np.bincount(train_labels)\n",
    "class_props = class_counts / float(len(train_labels))\n",
    "print(\"Class proportions\", class_props)\n",
    "class_prop_sorted = np.sort(class_props)[::-1]\n",
    "cumulative_prop = np.cumsum(class_prop_sorted)\n",
    "# Calculate the Gini coefficient\n",
    "lorenz_x = np.linspace(0, 1, len(class_prop_sorted))\n",
    "lorenz_y = np.cumsum(class_prop_sorted) / cumulative_prop[-1]\n",
    "# Calculate the area under the Lorenz curve\n",
    "area_lorenz = np.trapz(lorenz_y, lorenz_x)    \n",
    "# Calculate the Gini coefficient\n",
    "imbalanced_gini = ((2 * area_lorenz) - 1)\n",
    "\n",
    "\n",
    "print(\"Imbalanced Gini coefficient:\", imbalanced_gini)"
   ]
  },
  {
   "cell_type": "code",
   "execution_count": null,
   "id": "cb6bdb96",
   "metadata": {},
   "outputs": [],
   "source": []
  },
  {
   "cell_type": "code",
   "execution_count": 4,
   "id": "3e3627ac",
   "metadata": {},
   "outputs": [
    {
     "name": "stdout",
     "output_type": "stream",
     "text": [
      "0.04000000000000001\n",
      "0\n",
      "0.08000000000000002\n",
      "1\n",
      "0.12\n",
      "2\n",
      "0.16000000000000003\n",
      "3\n",
      "0.2\n",
      "4\n",
      "1.2000000000000002\n"
     ]
    }
   ],
   "source": [
    "i = [0.2, 0.2, 0.2, 0.2, 0.2]\n",
    "b = [0.2, 0.4, 0.6, 0.8, 1]\n",
    "n = 5\n",
    "\n",
    "for j in range(n):\n",
    "    print(i[j] * b[j])\n",
    "    print(j)\n",
    "    \n",
    "result = 2 * sum([i[j] * b[j] for j in range(n)])\n",
    "\n",
    "print(result)\n",
    "\n"
   ]
  },
  {
   "cell_type": "code",
   "execution_count": 11,
   "id": "9fc41fa7",
   "metadata": {},
   "outputs": [
    {
     "name": "stdout",
     "output_type": "stream",
     "text": [
      "0.04000000000000001\n",
      "0\n",
      "0.08000000000000002\n",
      "1\n",
      "0.12\n",
      "2\n",
      "0.16000000000000003\n",
      "3\n",
      "0.2\n",
      "4\n",
      "0.6000000000000001\n"
     ]
    }
   ],
   "source": [
    "f = [0.2, 0.2, 0.2, 0.2, 0.2]\n",
    "m = 5\n",
    "i = [1, 2, 3, 4, 5]\n",
    "\n",
    "for j in range(m):\n",
    "    print((i[j]/m) * f[j])\n",
    "    print(j)\n",
    "\n",
    "\n",
    "result = sum([(i[j]/m) * f[j] for j in range(m)])\n",
    "print(result)\n"
   ]
  },
  {
   "cell_type": "code",
   "execution_count": 79,
   "id": "b5e2043e",
   "metadata": {},
   "outputs": [],
   "source": [
    "def gini(x):\n",
    "        total = 0\n",
    "        for i, xi in enumerate(x[:-1], 1):\n",
    "            total += np.sum(np.abs(xi - x[i:]))\n",
    "        return total / (len(x)**2 * np.mean(x))"
   ]
  },
  {
   "cell_type": "code",
   "execution_count": 127,
   "id": "09c3aa11",
   "metadata": {},
   "outputs": [
    {
     "data": {
      "text/plain": [
       "0.09972212573810352"
      ]
     },
     "execution_count": 127,
     "metadata": {},
     "output_type": "execute_result"
    }
   ],
   "source": [
    "x = np.array([2.24609375, 1, 1, 1, 1, 1, 1, 1, 1, 1])\n",
    "gini(x)"
   ]
  },
  {
   "cell_type": "code",
   "execution_count": 136,
   "id": "a4e59bca",
   "metadata": {},
   "outputs": [],
   "source": [
    "def find_relative_distribution_given_targetgini(target_gini, n): #target_gini is the gini to be reached with the eventual distribution, n is the number of categories in the eventual distribution \n",
    "    # Define the gini function\n",
    "    def gini(x):\n",
    "        total = 0\n",
    "        for i, xi in enumerate(x[:-1], 1):\n",
    "            total += np.sum(np.abs(xi - x[i:]))\n",
    "        return total / (len(x)**2 * np.mean(x))\n",
    "\n",
    "    # Set the initial lower and upper bounds for the first element\n",
    "    lower_bound = 0\n",
    "    upper_bound = 100\n",
    "\n",
    "    # Use binary search to find the appropriate value for the first element\n",
    "    while True:\n",
    "        mid = (lower_bound + upper_bound) / 2\n",
    "        x = np.array([mid] + [1]*(n-1))\n",
    "        g = gini(x)\n",
    "        \n",
    "        if abs(g - target_gini) < 1e-3:\n",
    "            r = x / np.sum(x)\n",
    "            print(\"Relative distribution over n categories:\", r)\n",
    "            g = gini(r)\n",
    "            print(\"Gini coefficient:\", g)\n",
    "            return g, r\n",
    "            \n",
    "        elif g > target_gini:\n",
    "            upper_bound = mid\n",
    "        else:\n",
    "            lower_bound = mid"
   ]
  },
  {
   "cell_type": "code",
   "execution_count": 137,
   "id": "cdaf5c70",
   "metadata": {},
   "outputs": [
    {
     "name": "stdout",
     "output_type": "stream",
     "text": [
      "Relative distribution over n categories: [0.5995829  0.04449079 0.04449079 0.04449079 0.04449079 0.04449079\n",
      " 0.04449079 0.04449079 0.04449079 0.04449079]\n",
      "Gini coefficient: 0.49958289885297197\n"
     ]
    }
   ],
   "source": [
    "target_gini = 0.5\n",
    "n = 10 \n",
    "g, r = find_relative_distribution_given_targetgini(target_gini, n)"
   ]
  },
  {
   "cell_type": "code",
   "execution_count": null,
   "id": "c5e31e34",
   "metadata": {},
   "outputs": [],
   "source": []
  },
  {
   "cell_type": "code",
   "execution_count": null,
   "id": "a1a0a292",
   "metadata": {},
   "outputs": [],
   "source": []
  },
  {
   "cell_type": "code",
   "execution_count": null,
   "id": "d2b33143",
   "metadata": {},
   "outputs": [],
   "source": [
    "\n",
    "\n"
   ]
  },
  {
   "cell_type": "code",
   "execution_count": null,
   "id": "21d7ea19",
   "metadata": {},
   "outputs": [],
   "source": []
  }
 ],
 "metadata": {
  "kernelspec": {
   "display_name": "Python 3 (ipykernel)",
   "language": "python",
   "name": "python3"
  },
  "language_info": {
   "codemirror_mode": {
    "name": "ipython",
    "version": 3
   },
   "file_extension": ".py",
   "mimetype": "text/x-python",
   "name": "python",
   "nbconvert_exporter": "python",
   "pygments_lexer": "ipython3",
   "version": "3.9.12"
  }
 },
 "nbformat": 4,
 "nbformat_minor": 5
}
